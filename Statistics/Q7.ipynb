{
 "cells": [
  {
   "cell_type": "code",
   "execution_count": null,
   "metadata": {},
   "outputs": [],
   "source": []
  },
  {
   "attachments": {},
   "cell_type": "markdown",
   "metadata": {},
   "source": [
    "Q-7. The equations of two lines of regression, obtained in a correlation analysis\n",
    "between variables X and Y are as follows:\n",
    "and . 2𝑋 + 3 − 8 = 0 2𝑌 + 𝑋 − 5 = 0 The variance of 𝑋 = 4 Find the\n",
    "a. Variance of Y\n",
    "b. Coefficient of determination of C and Y\n",
    "c. Standard error of estimate of X on Y and of Y on X."
   ]
  },
  {
   "attachments": {},
   "cell_type": "markdown",
   "metadata": {},
   "source": []
  },
  {
   "cell_type": "code",
   "execution_count": 2,
   "metadata": {},
   "outputs": [
    {
     "name": "stdout",
     "output_type": "stream",
     "text": [
      "Standard Error of Estimate for X on Y: 1.538370149106851e-15\n",
      "Standard Error of Estimate for Y on X: 8.08254562088053e-16\n",
      "varience is :  8.0\n"
     ]
    }
   ],
   "source": [
    "import numpy as np\n",
    "import statsmodels.api as sm\n",
    "\n",
    "# Define the independent variable X and dependent variable Y\n",
    "X = np.array([1, 2, 3, 4, 5])  # Replace with your actual X values\n",
    "Y = np.array([2, 4, 6, 8, 10])  # Replace with your actual Y values\n",
    "\n",
    "# Add a constant term to X for the regression model\n",
    "X = sm.add_constant(X)\n",
    "\n",
    "# Fit the regression model of X on Y\n",
    "model_X_on_Y = sm.OLS(Y, X).fit()\n",
    "\n",
    "# Calculate the standard error of estimate for X on Y\n",
    "SEE_X_on_Y = np.sqrt(model_X_on_Y.mse_resid)\n",
    "\n",
    "# Fit the regression model of Y on X\n",
    "model_Y_on_X = sm.OLS(X[:, 1], Y).fit()\n",
    "\n",
    "# Calculate the standard error of estimate for Y on X\n",
    "SEE_Y_on_X = np.sqrt(model_Y_on_X.mse_resid)\n",
    "\n",
    "# Print the standard errors of estimate\n",
    "print(\"Standard Error of Estimate for X on Y:\", SEE_X_on_Y)\n",
    "print(\"Standard Error of Estimate for Y on X:\", SEE_Y_on_X)\n",
    "\n",
    "variance_Y = np.var(Y)\n",
    "print (\"varience is : \", variance_Y)\n",
    "\n",
    "\n"
   ]
  },
  {
   "cell_type": "code",
   "execution_count": null,
   "metadata": {},
   "outputs": [],
   "source": []
  }
 ],
 "metadata": {
  "kernelspec": {
   "display_name": "base",
   "language": "python",
   "name": "python3"
  },
  "language_info": {
   "codemirror_mode": {
    "name": "ipython",
    "version": 3
   },
   "file_extension": ".py",
   "mimetype": "text/x-python",
   "name": "python",
   "nbconvert_exporter": "python",
   "pygments_lexer": "ipython3",
   "version": "3.9.7"
  },
  "orig_nbformat": 4
 },
 "nbformat": 4,
 "nbformat_minor": 2
}
