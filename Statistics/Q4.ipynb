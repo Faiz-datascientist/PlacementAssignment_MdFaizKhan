{
 "cells": [
  {
   "cell_type": "code",
   "execution_count": null,
   "metadata": {},
   "outputs": [],
   "source": []
  },
  {
   "attachments": {},
   "cell_type": "markdown",
   "metadata": {},
   "source": [
    "Q-4. A group of 20 friends decide to play a game in which they each write a number between 1 and 20 on a slip of paper and put it into a hat. They then draw one slip of paper at random. What is the probability that the number on the slip of paper is a perfect square (i.e., 1, 4, 9, or 16)"
   ]
  },
  {
   "attachments": {},
   "cell_type": "markdown",
   "metadata": {},
   "source": []
  },
  {
   "cell_type": "code",
   "execution_count": null,
   "metadata": {},
   "outputs": [],
   "source": [
    "# Number of favorable outcomes (perfect squares)\n",
    "favorable_outcomes = 4\n",
    "\n",
    "# Total number of possible outcomes\n",
    "total_outcomes = 20\n",
    "\n",
    "# Calculate the probability\n",
    "probability = favorable_outcomes / total_outcomes\n",
    "\n",
    "# Display the result\n",
    "print(f\"The probability of drawing a perfect square number is: {probability:.2f}\")"
   ]
  }
 ],
 "metadata": {
  "language_info": {
   "name": "python"
  },
  "orig_nbformat": 4
 },
 "nbformat": 4,
 "nbformat_minor": 2
}
