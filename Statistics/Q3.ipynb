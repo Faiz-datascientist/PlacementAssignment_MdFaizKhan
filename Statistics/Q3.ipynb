{
 "cells": [
  {
   "attachments": {},
   "cell_type": "markdown",
   "metadata": {},
   "source": [
    "Q-3. Consider the ‘Blood Pressure Before’ and ‘Blood Pressure After’ columns from the\n",
    "data and calculate the following\n",
    "https://drive.google.com/file/d/1mCjtYHiX--mMUjicuaP2gH3k-SnFxt8Y/view?usp=share_\n",
    "\n",
    "a. Measure the dispersion in both and interpret the results.\n",
    "\n",
    "b. Calculate mean and 5% confidence interval and plot it in a graph\n",
    "c. Calculate the Mean absolute deviation and Standard deviation and interpret\n",
    "the results.\n",
    "d. Calculate the correlation coefficient and check the significance of it at 1% level\n",
    "of significance."
   ]
  },
  {
   "cell_type": "code",
   "execution_count": 1,
   "metadata": {},
   "outputs": [],
   "source": [
    "import pandas as pd\n",
    "import numpy as np\n",
    "import seaborn as sns\n",
    "import matplotlib.pyplot as plt"
   ]
  },
  {
   "cell_type": "code",
   "execution_count": 4,
   "metadata": {},
   "outputs": [],
   "source": [
    "df=pd.read_csv(r\"E:\\DATA SETS\\pokemon\\BP.csv\")"
   ]
  },
  {
   "cell_type": "code",
   "execution_count": 5,
   "metadata": {},
   "outputs": [],
   "source": [
    "df.columns = [\"Patient ID\",\"Blood Pressure Before\",\"Blood Pressure After\"]\n",
    "df.drop(\"Patient ID\",axis=1,inplace=True)"
   ]
  },
  {
   "cell_type": "code",
   "execution_count": 7,
   "metadata": {},
   "outputs": [
    {
     "name": "stdout",
     "output_type": "stream",
     "text": [
      "Blood Pressure Before    43.1019\n",
      "Blood Pressure After     46.9704\n",
      "dtype: float64\n",
      "==============================\n",
      "Blood Pressure Before    6.565204\n",
      "Blood Pressure After     6.853495\n",
      "dtype: float64\n"
     ]
    }
   ],
   "source": [
    "#calculate varience and standard deviation\n",
    "#Measure the dispersion in both and interpret the results.\n",
    "variance = np.var(df)\n",
    "std_dev = np.std(df)\n",
    "print(variance)\n",
    "print(\"=\"*30)\n",
    "print(std_dev)"
   ]
  },
  {
   "cell_type": "code",
   "execution_count": 18,
   "metadata": {},
   "outputs": [],
   "source": [
    "from scipy import stats"
   ]
  },
  {
   "cell_type": "code",
   "execution_count": 19,
   "metadata": {},
   "outputs": [
    {
     "name": "stderr",
     "output_type": "stream",
     "text": [
      "No handles with labels found to put in legend.\n"
     ]
    },
    {
     "data": {
      "image/png": "[encoded data removed]",
      "text/plain": [
       "<Figure size 576x432 with 1 Axes>"
      ]
     },
     "metadata": {
      "needs_background": "light"
     },
     "output_type": "display_data"
    },
    {
     "name": "stdout",
     "output_type": "stream",
     "text": [
      "Mean data: 170.00\n",
      "Confidence Interval (95%): (array([132.60075849, 126.99326698]), array([135.21924151, 129.72673302]))\n"
     ]
    }
   ],
   "source": [
    "#b. Calculate mean and 5% confidence interval and plot it in a graph\n",
    "mean = np.mean(df)\n",
    "\n",
    "mean_height = 170\n",
    "\n",
    "# Calculate 5% confidence interval\n",
    "confidence_interval = stats.t.interval(0.95, len(df) - 1, loc=np.mean(df), scale=stats.sem(df))\n",
    "\n",
    "# Plotting the mean and confidence interval\n",
    "plt.figure(figsize=(8, 6))\n",
    "plt.hist(df, bins=30, alpha=0.5)\n",
    "plt.xlabel('Height (cm)')\n",
    "plt.ylabel('Frequency')\n",
    "plt.title('Distribution with Mean and 95% Confidence Interval')\n",
    "plt.legend()\n",
    "plt.show()\n",
    "\n",
    "print(f\"Mean data: {mean_height:.2f}\")\n",
    "print(f\"Confidence Interval (95%): {confidence_interval}\")"
   ]
  },
  {
   "cell_type": "code",
   "execution_count": 20,
   "metadata": {},
   "outputs": [
    {
     "name": "stdout",
     "output_type": "stream",
     "text": [
      "Blood Pressure Before    5.7118\n",
      "Blood Pressure After     5.9000\n",
      "dtype: float64\n",
      "**************************************************\n",
      "Blood Pressure Before    6.565204\n",
      "Blood Pressure After     6.853495\n",
      "dtype: float64\n"
     ]
    }
   ],
   "source": [
    "#c. Calculate the Mean absolute deviation and Standard deviation and interpretthe results\n",
    "c= np.mean(np.abs(df-np.mean(df)))\n",
    "sd = np.std(df)\n",
    "print(c)\n",
    "print(\"*\"*50)\n",
    "print(sd)"
   ]
  },
  {
   "cell_type": "code",
   "execution_count": 22,
   "metadata": {},
   "outputs": [
    {
     "name": "stdout",
     "output_type": "stream",
     "text": [
      "Correlation Coefficient: 0.98\n",
      "p-value: 0.0000\n",
      "correlation coefficient is statistically significant at the 1% level of significance.\n"
     ]
    }
   ],
   "source": [
    "#d. Calculate the correlation coefficient and check the significance of it at 1% levelof significance.\n",
    "\n",
    "import scipy.stats as stats\n",
    "\n",
    "# Given datasets\n",
    "x = df[\"Blood Pressure Before\"]  \n",
    "y = df[\"Blood Pressure After\"]\n",
    "corr_coef, p_value = stats.pearsonr(x, y)\n",
    "\n",
    "print(f\"Correlation Coefficient: {corr_coef:.2f}\")\n",
    "print(f\"p-value: {p_value:.4f}\")\n",
    "\n",
    "# Checking the significant\n",
    "if p_value < 0.01:\n",
    "    print(\"correlation coefficient is statistically significant at the 1% level of significance.\")\n",
    "else:\n",
    "    print(\"correlation coefficient is not statistically significant at the 1% level of significance.\")"
   ]
  },
  {
   "cell_type": "code",
   "execution_count": null,
   "metadata": {},
   "outputs": [],
   "source": []
  }
 ],
 "metadata": {
  "kernelspec": {
   "display_name": "base",
   "language": "python",
   "name": "python3"
  },
  "language_info": {
   "codemirror_mode": {
    "name": "ipython",
    "version": 3
   },
   "file_extension": ".py",
   "mimetype": "text/x-python",
   "name": "python",
   "nbconvert_exporter": "python",
   "pygments_lexer": "ipython3",
   "version": "3.9.7"
  },
  "orig_nbformat": 4
 },
 "nbformat": 4,
 "nbformat_minor": 2
}
