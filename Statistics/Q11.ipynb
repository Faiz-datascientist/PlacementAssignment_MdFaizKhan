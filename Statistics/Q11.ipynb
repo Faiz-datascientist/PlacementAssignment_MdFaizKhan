{
 "cells": [
  {
   "attachments": {},
   "cell_type": "markdown",
   "metadata": {},
   "source": [
    "Q-11. Given the data of a feature contributing to different classes\n",
    "https://drive.google.com/file/d/1mCjtYHiX--mMUjicuaP2gH3k-SnFxt8Y/view?usp\n",
    "=share_\n",
    "\n",
    "a. Check whether the distribution of all the classes are the same or not.\n",
    "\n",
    "b. Check for the equality of variance/\n",
    "\n",
    "c. Which amount LDA and QDA would perform better on this data for\n",
    "\n",
    "classification and why.\n",
    "\n",
    "d. Check the equality of mean for between all the classes."
   ]
  },
  {
   "cell_type": "code",
   "execution_count": 1,
   "metadata": {},
   "outputs": [],
   "source": [
    "import pandas as pd \n",
    "import numpy as np \n",
    "import seaborn as sns\n",
    "import matplotlib.pyplot as plt\n",
    "from scipy.stats import ttest_ind"
   ]
  },
  {
   "cell_type": "code",
   "execution_count": 2,
   "metadata": {},
   "outputs": [],
   "source": [
    "data=pd.read_csv(\"E:\\DATA SETS\\pokemon\\BP.csv\")"
   ]
  },
  {
   "cell_type": "code",
   "execution_count": 3,
   "metadata": {},
   "outputs": [
    {
     "data": {
      "text/html": [
       "<div>\n",
       "<style scoped>\n",
       "    .dataframe tbody tr th:only-of-type {\n",
       "        vertical-align: middle;\n",
       "    }\n",
       "\n",
       "    .dataframe tbody tr th {\n",
       "        vertical-align: top;\n",
       "    }\n",
       "\n",
       "    .dataframe thead th {\n",
       "        text-align: right;\n",
       "    }\n",
       "</style>\n",
       "<table border=\"1\" class=\"dataframe\">\n",
       "  <thead>\n",
       "    <tr style=\"text-align: right;\">\n",
       "      <th></th>\n",
       "      <th>Patient ID</th>\n",
       "      <th>Blood Pressure Before (mmHg)</th>\n",
       "      <th>Blood Pressure After (mmHg)</th>\n",
       "    </tr>\n",
       "  </thead>\n",
       "  <tbody>\n",
       "    <tr>\n",
       "      <th>0</th>\n",
       "      <td>1</td>\n",
       "      <td>130</td>\n",
       "      <td>120</td>\n",
       "    </tr>\n",
       "    <tr>\n",
       "      <th>1</th>\n",
       "      <td>2</td>\n",
       "      <td>142</td>\n",
       "      <td>135</td>\n",
       "    </tr>\n",
       "    <tr>\n",
       "      <th>2</th>\n",
       "      <td>3</td>\n",
       "      <td>120</td>\n",
       "      <td>118</td>\n",
       "    </tr>\n",
       "    <tr>\n",
       "      <th>3</th>\n",
       "      <td>4</td>\n",
       "      <td>135</td>\n",
       "      <td>127</td>\n",
       "    </tr>\n",
       "    <tr>\n",
       "      <th>4</th>\n",
       "      <td>5</td>\n",
       "      <td>148</td>\n",
       "      <td>140</td>\n",
       "    </tr>\n",
       "  </tbody>\n",
       "</table>\n",
       "</div>"
      ],
      "text/plain": [
       "   Patient ID   Blood Pressure Before (mmHg)   Blood Pressure After (mmHg)\n",
       "0           1                            130                           120\n",
       "1           2                            142                           135\n",
       "2           3                            120                           118\n",
       "3           4                            135                           127\n",
       "4           5                            148                           140"
      ]
     },
     "execution_count": 3,
     "metadata": {},
     "output_type": "execute_result"
    }
   ],
   "source": [
    "data.head()"
   ]
  },
  {
   "cell_type": "code",
   "execution_count": 8,
   "metadata": {},
   "outputs": [
    {
     "data": {
      "text/plain": [
       "0     120\n",
       "1     135\n",
       "2     118\n",
       "3     127\n",
       "4     140\n",
       "     ... \n",
       "95    129\n",
       "96    137\n",
       "97    123\n",
       "98    135\n",
       "99    130\n",
       "Name:  Blood Pressure After (mmHg), Length: 100, dtype: int64"
      ]
     },
     "execution_count": 8,
     "metadata": {},
     "output_type": "execute_result"
    }
   ],
   "source": [
    "data[\" Blood Pressure After (mmHg)\"]"
   ]
  },
  {
   "cell_type": "code",
   "execution_count": 9,
   "metadata": {},
   "outputs": [
    {
     "name": "stdout",
     "output_type": "stream",
     "text": [
      "The distributions of the two classes are significantly different.\n"
     ]
    }
   ],
   "source": [
    "# a. Check whether the distribution of all the classes are the same or not.\n",
    "# Perform the t-test\n",
    "before = data[' Blood Pressure Before (mmHg)']\n",
    "after = data[' Blood Pressure After (mmHg)']\n",
    "t_statistic, p_value = ttest_ind(before, after)\n",
    "\n",
    "# Check if the distributions are significantly different\n",
    "alpha = 0.05  # Significance level\n",
    "if p_value < alpha:\n",
    "    print(\"The distributions of the two classes are significantly different.\")\n",
    "else:\n",
    "    print(\"The distributions of the two classes are not significantly different.\")\n"
   ]
  },
  {
   "cell_type": "code",
   "execution_count": 10,
   "metadata": {},
   "outputs": [
    {
     "name": "stdout",
     "output_type": "stream",
     "text": [
      "The variances of the two classes are not significantly different.\n"
     ]
    }
   ],
   "source": [
    "#b. Check for the equality of variance\n",
    "\n",
    "from scipy.stats import levene\n",
    "\n",
    "# Perform Levene's test for equality of variances\n",
    "statistic, p_value = levene(before, after)\n",
    "\n",
    "# Check if the variances are significantly different\n",
    "if p_value < alpha:\n",
    "    print(\"The variances of the two classes are significantly different.\")\n",
    "else:\n",
    "    print(\"The variances of the two classes are not significantly different.\")\n",
    "\n"
   ]
  },
  {
   "cell_type": "code",
   "execution_count": 11,
   "metadata": {},
   "outputs": [
    {
     "data": {
      "text/html": [
       "<div>\n",
       "<style scoped>\n",
       "    .dataframe tbody tr th:only-of-type {\n",
       "        vertical-align: middle;\n",
       "    }\n",
       "\n",
       "    .dataframe tbody tr th {\n",
       "        vertical-align: top;\n",
       "    }\n",
       "\n",
       "    .dataframe thead th {\n",
       "        text-align: right;\n",
       "    }\n",
       "</style>\n",
       "<table border=\"1\" class=\"dataframe\">\n",
       "  <thead>\n",
       "    <tr style=\"text-align: right;\">\n",
       "      <th></th>\n",
       "      <th>Patient ID</th>\n",
       "      <th>Blood Pressure Before (mmHg)</th>\n",
       "      <th>Blood Pressure After (mmHg)</th>\n",
       "    </tr>\n",
       "  </thead>\n",
       "  <tbody>\n",
       "    <tr>\n",
       "      <th>0</th>\n",
       "      <td>1</td>\n",
       "      <td>130</td>\n",
       "      <td>120</td>\n",
       "    </tr>\n",
       "    <tr>\n",
       "      <th>1</th>\n",
       "      <td>2</td>\n",
       "      <td>142</td>\n",
       "      <td>135</td>\n",
       "    </tr>\n",
       "    <tr>\n",
       "      <th>2</th>\n",
       "      <td>3</td>\n",
       "      <td>120</td>\n",
       "      <td>118</td>\n",
       "    </tr>\n",
       "    <tr>\n",
       "      <th>3</th>\n",
       "      <td>4</td>\n",
       "      <td>135</td>\n",
       "      <td>127</td>\n",
       "    </tr>\n",
       "    <tr>\n",
       "      <th>4</th>\n",
       "      <td>5</td>\n",
       "      <td>148</td>\n",
       "      <td>140</td>\n",
       "    </tr>\n",
       "    <tr>\n",
       "      <th>5</th>\n",
       "      <td>6</td>\n",
       "      <td>122</td>\n",
       "      <td>118</td>\n",
       "    </tr>\n",
       "    <tr>\n",
       "      <th>6</th>\n",
       "      <td>7</td>\n",
       "      <td>137</td>\n",
       "      <td>129</td>\n",
       "    </tr>\n",
       "    <tr>\n",
       "      <th>7</th>\n",
       "      <td>8</td>\n",
       "      <td>130</td>\n",
       "      <td>124</td>\n",
       "    </tr>\n",
       "    <tr>\n",
       "      <th>8</th>\n",
       "      <td>9</td>\n",
       "      <td>142</td>\n",
       "      <td>137</td>\n",
       "    </tr>\n",
       "    <tr>\n",
       "      <th>9</th>\n",
       "      <td>10</td>\n",
       "      <td>128</td>\n",
       "      <td>125</td>\n",
       "    </tr>\n",
       "    <tr>\n",
       "      <th>10</th>\n",
       "      <td>11</td>\n",
       "      <td>135</td>\n",
       "      <td>129</td>\n",
       "    </tr>\n",
       "    <tr>\n",
       "      <th>11</th>\n",
       "      <td>12</td>\n",
       "      <td>140</td>\n",
       "      <td>132</td>\n",
       "    </tr>\n",
       "    <tr>\n",
       "      <th>12</th>\n",
       "      <td>13</td>\n",
       "      <td>132</td>\n",
       "      <td>125</td>\n",
       "    </tr>\n",
       "    <tr>\n",
       "      <th>13</th>\n",
       "      <td>14</td>\n",
       "      <td>145</td>\n",
       "      <td>136</td>\n",
       "    </tr>\n",
       "    <tr>\n",
       "      <th>14</th>\n",
       "      <td>15</td>\n",
       "      <td>124</td>\n",
       "      <td>118</td>\n",
       "    </tr>\n",
       "  </tbody>\n",
       "</table>\n",
       "</div>"
      ],
      "text/plain": [
       "    Patient ID   Blood Pressure Before (mmHg)   Blood Pressure After (mmHg)\n",
       "0            1                            130                           120\n",
       "1            2                            142                           135\n",
       "2            3                            120                           118\n",
       "3            4                            135                           127\n",
       "4            5                            148                           140\n",
       "5            6                            122                           118\n",
       "6            7                            137                           129\n",
       "7            8                            130                           124\n",
       "8            9                            142                           137\n",
       "9           10                            128                           125\n",
       "10          11                            135                           129\n",
       "11          12                            140                           132\n",
       "12          13                            132                           125\n",
       "13          14                            145                           136\n",
       "14          15                            124                           118"
      ]
     },
     "execution_count": 11,
     "metadata": {},
     "output_type": "execute_result"
    }
   ],
   "source": [
    "data.head(15)"
   ]
  },
  {
   "cell_type": "code",
   "execution_count": 14,
   "metadata": {},
   "outputs": [
    {
     "data": {
      "text/plain": [
       "0"
      ]
     },
     "execution_count": 14,
     "metadata": {},
     "output_type": "execute_result"
    }
   ],
   "source": [
    "data.duplicated().sum()"
   ]
  },
  {
   "cell_type": "code",
   "execution_count": 18,
   "metadata": {},
   "outputs": [
    {
     "name": "stdout",
     "output_type": "stream",
     "text": [
      "LDA Mean Accuracy: 0.51\n",
      "QDA Mean Accuracy: 0.49000000000000005\n"
     ]
    }
   ],
   "source": [
    "## c. Which amount LDA and QDA would perform better on this data for\n",
    "from sklearn.discriminant_analysis import LinearDiscriminantAnalysis, QuadraticDiscriminantAnalysis\n",
    "from sklearn.model_selection import cross_val_score\n",
    "\n",
    "# Prepare the feature matrix X and the target variable y\n",
    "X = data[[' Blood Pressure Before (mmHg)', ' Blood Pressure After (mmHg)']].values\n",
    "y = ['Before', 'After'] * (len(data) // 2)  # Adjust y to match the number of samples in X\n",
    "\n",
    "# Create LDA and QDA classifiers\n",
    "lda = LinearDiscriminantAnalysis()\n",
    "qda = QuadraticDiscriminantAnalysis()\n",
    "\n",
    "# Perform cross-validation and evaluate the classifiers\n",
    "lda_scores = cross_val_score(lda, X, y, cv=5)\n",
    "qda_scores = cross_val_score(qda, X, y, cv=5)\n",
    "\n",
    "# Print the mean accuracy scores for each classifier\n",
    "print(\"LDA Mean Accuracy:\", lda_scores.mean())\n",
    "print(\"QDA Mean Accuracy:\", qda_scores.mean())\n"
   ]
  },
  {
   "cell_type": "code",
   "execution_count": 19,
   "metadata": {},
   "outputs": [
    {
     "name": "stdout",
     "output_type": "stream",
     "text": [
      "The means of the classes are significantly different.\n"
     ]
    }
   ],
   "source": [
    "#d. Check the equality of mean for between all the classes.\n",
    "from scipy.stats import f_oneway\n",
    "\n",
    "# Perform one-way ANOVA test\n",
    "statistic, p_value = f_oneway(before, after)\n",
    "\n",
    "# Check if the means are significantly different\n",
    "if p_value < alpha:\n",
    "    print(\"The means of the classes are significantly different.\")\n",
    "else:\n",
    "    print(\"The means of the classes are not significantly different.\")\n",
    "\n"
   ]
  },
  {
   "cell_type": "code",
   "execution_count": null,
   "metadata": {},
   "outputs": [],
   "source": []
  }
 ],
 "metadata": {
  "kernelspec": {
   "display_name": "base",
   "language": "python",
   "name": "python3"
  },
  "language_info": {
   "codemirror_mode": {
    "name": "ipython",
    "version": 3
   },
   "file_extension": ".py",
   "mimetype": "text/x-python",
   "name": "python",
   "nbconvert_exporter": "python",
   "pygments_lexer": "ipython3",
   "version": "3.9.7"
  },
  "orig_nbformat": 4
 },
 "nbformat": 4,
 "nbformat_minor": 2
}
