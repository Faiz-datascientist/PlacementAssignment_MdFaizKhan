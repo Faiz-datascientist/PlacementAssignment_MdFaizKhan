{
 "cells": [
  {
   "attachments": {},
   "cell_type": "markdown",
   "metadata": {},
   "source": [
    "Write a program to download the data from the link given below and then read the data and convert the into the proper structure and return it as a CSV file. Link - https://data.nasa.gov/resource/y77d-th95.json Note - Write code comments wherever needed for code understanding.\n",
    "\n",
    "Excepted Output Data Attributes ● Name of Earth Meteorite - string id - ID of Earth ● Meteorite - int nametype - string recclass - string ● mass - Mass of Earth Meteorite - float year - Year at which Earth ● Meteorite was hit - datetime format reclat - float recclong - float ● point coordinates - list of int"
   ]
  },
  {
   "cell_type": "code",
   "execution_count": 1,
   "metadata": {},
   "outputs": [],
   "source": [
    "import pandas as pd\n",
    "import requests\n",
    "\n",
    "def data_to_url(link):\n",
    "    # Download the data from the provided link\n",
    "    response = requests.get(link)\n",
    "    #use request to pull from url\n",
    "    data = response.json()\n",
    "    return data\n",
    "data = data_to_url(\"https://data.nasa.gov/resource/y77d-th95.json\")\n",
    "df = pd.DataFrame(data)\n",
    "df.drop([\":@computed_region_cbhk_fwbd\",\":@computed_region_nnqa_25f4\",\"id\",\"fall\",\"reclat\",\"reclong\"],axis=1,inplace=True)\n",
    "df.to_csv(\"meteorite.csv\",index=False)"
   ]
  },
  {
   "cell_type": "code",
   "execution_count": null,
   "metadata": {},
   "outputs": [],
   "source": []
  }
 ],
 "metadata": {
  "kernelspec": {
   "display_name": "base",
   "language": "python",
   "name": "python3"
  },
  "language_info": {
   "codemirror_mode": {
    "name": "ipython",
    "version": 3
   },
   "file_extension": ".py",
   "mimetype": "text/x-python",
   "name": "python",
   "nbconvert_exporter": "python",
   "pygments_lexer": "ipython3",
   "version": "3.9.7"
  },
  "orig_nbformat": 4
 },
 "nbformat": 4,
 "nbformat_minor": 2
}
