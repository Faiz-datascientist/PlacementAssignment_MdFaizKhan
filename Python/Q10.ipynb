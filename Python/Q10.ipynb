{
 "cells": [
  {
   "cell_type": "code",
   "execution_count": null,
   "metadata": {},
   "outputs": [],
   "source": []
  },
  {
   "attachments": {},
   "cell_type": "markdown",
   "metadata": {},
   "source": [
    "Question 10 -\n",
    "Write a program to count the number of verbs, nouns, pronouns, and adjectives in a given particular phrase or paragraph, and return their respective count as a dictionary. Note -\n",
    "\n",
    "Write code comments wherever required for code\n",
    "You have to write at least 2 additional test cases in which your program will run successfully and provide an explanation for the same.\n",
    "dic = { \"nouns\": \"count of nouns\", \"pronouns\": \"count of pronouns\", \"verbs\": \"count of verbs\", \"adjectives\": \"count of adjectives\" }"
   ]
  },
  {
   "cell_type": "code",
   "execution_count": 1,
   "metadata": {},
   "outputs": [
    {
     "name": "stdout",
     "output_type": "stream",
     "text": [
      "{'Verbs': 1, 'Nouns': 1, 'Pronouns': 0, 'Adjectives': 0}\n",
      "{'Verbs': 11, 'Nouns': 11, 'Pronouns': 0, 'Adjectives': 0}\n"
     ]
    }
   ],
   "source": [
    "import re\n",
    "\n",
    "def countss_tag(text):\n",
    "#nouns\n",
    "    nouns = re.findall(r'\\b\\w+s\\b|\\b\\w+[^inged]s\\b|\\b\\w+[^ing]ing\\b|\\b\\w+ed\\b', text)\n",
    "    noun_count = len(nouns)\n",
    "\n",
    "\n",
    "    verbs = re.findall(r'\\b\\w+ing\\b|\\b\\w+ed\\b|\\b\\w+s\\b', text)\n",
    "    verb_count = len(verbs)\n",
    "    \n",
    "    \n",
    "\n",
    "    pronouns = re.findall(r'\\b(?:he|she|it|they|we|you|I|me|him|her|us|them)\\b', text, re.IGNORECASE)\n",
    "    pronoun_count = len(pronouns)\n",
    "    \n",
    "   \n",
    "    adjectives = re.findall(r'\\b\\w+ful\\b|\\b\\w+ous\\b|\\b\\w+ish\\b|\\b\\w+ive\\b', text)\n",
    "    adjective_count = len(adjectives)\n",
    "\n",
    "    pos_counts = {\n",
    "        'Verbs': verb_count,\n",
    "        'Nouns': noun_count,\n",
    "        'Pronouns': pronoun_count,\n",
    "        'Adjectives': adjective_count\n",
    "    }\n",
    "    \n",
    "    return pos_counts\n",
    "\n",
    "# Test case 1: Counting POS tags in a phrase\n",
    "phrase = \"The quick brown fox jumps over the lazy dog\"\n",
    "result1 = countss_tag(phrase)\n",
    "print(result1)\n",
    "\n",
    "# Test case 2: Counting POS tags in a paragraph\n",
    "paragraph = \"Data science is an interdisciplinary academic field that uses statistics, scientific computing, scientific methods, processes, algorithms and systems to extract or extrapolate knowledge and insights from noisy, structured, and unstructured data.\"\n",
    "result2 = countss_tag(paragraph)\n",
    "print(result2)"
   ]
  },
  {
   "cell_type": "code",
   "execution_count": null,
   "metadata": {},
   "outputs": [],
   "source": []
  }
 ],
 "metadata": {
  "kernelspec": {
   "display_name": "base",
   "language": "python",
   "name": "python3"
  },
  "language_info": {
   "codemirror_mode": {
    "name": "ipython",
    "version": 3
   },
   "file_extension": ".py",
   "mimetype": "text/x-python",
   "name": "python",
   "nbconvert_exporter": "python",
   "pygments_lexer": "ipython3",
   "version": "3.9.7"
  },
  "orig_nbformat": 4
 },
 "nbformat": 4,
 "nbformat_minor": 2
}
