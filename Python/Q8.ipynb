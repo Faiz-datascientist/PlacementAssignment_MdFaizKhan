{
 "cells": [
  {
   "cell_type": "code",
   "execution_count": null,
   "metadata": {},
   "outputs": [],
   "source": []
  },
  {
   "cell_type": "markdown",
   "metadata": {},
   "source": [
    "Question 8 -\n",
    "Using the data from Question 5, write code the analyze the data and answer the following questions Note -\n",
    "\n",
    "Draw plots to demonstrate the analysis for the following questions and better visualizations\n",
    "Write code comments wherever required for code understanding\n",
    "Insights to be drawn -\n",
    "\n",
    "● Get all the overall ratings for each season and using plots compare the ratings for all the seasons, like season 1 ratings, season 2, and so on.\n",
    "\n",
    "● Get all the episode names, whose average rating is more than 8 for every season\n",
    "\n",
    "● Get all the episode names that aired before May 2019\n",
    "\n",
    "● Get the episode name from each season with the highest and lowest rating\n",
    "\n",
    "● Get the summary for the most popular ( ratings ) episode in every season"
   ]
  },
  {
   "cell_type": "code",
   "execution_count": 1,
   "metadata": {},
   "outputs": [],
   "source": [
    "import pandas as pd\n",
    "import matplotlib.pyplot as plt\n",
    "import seaborn as sns\n",
    "import requests"
   ]
  },
  {
   "cell_type": "code",
   "execution_count": 2,
   "metadata": {},
   "outputs": [],
   "source": [
    "response = requests.get(\n",
    "    \"http://api.tvmaze.com/singlesearch/shows?q=westworld&embed=episodes\"\n",
    ")\n"
   ]
  },
  {
   "cell_type": "code",
   "execution_count": 3,
   "metadata": {},
   "outputs": [],
   "source": [
    "df = response.json()"
   ]
  },
  {
   "cell_type": "code",
   "execution_count": 4,
   "metadata": {},
   "outputs": [],
   "source": [
    "episodes = df[\"_embedded\"][\"episodes\"]"
   ]
  },
  {
   "cell_type": "code",
   "execution_count": 5,
   "metadata": {},
   "outputs": [],
   "source": [
    "episodes_data = []"
   ]
  },
  {
   "cell_type": "code",
   "execution_count": 6,
   "metadata": {},
   "outputs": [],
   "source": [
    "for episode in episodes:\n",
    "    epi_data = {\n",
    "        \"id\": episode[\"id\"],\n",
    "        \"name\": episode[\"name\"],\n",
    "        \"season\": episode[\"season\"],\n",
    "        \"number\": episode[\"number\"],\n",
    "        \"rating_average\": episode[\"rating\"][\"average\"],\n",
    "        \"airdate\": episode[\"airdate\"],\n",
    "        \"summary\": episode[\"summary\"],\n",
    "    }\n",
    "    episodes_data.append(epi_data)"
   ]
  },
  {
   "cell_type": "code",
   "execution_count": 7,
   "metadata": {},
   "outputs": [],
   "source": [
    "episodes_df = pd.DataFrame(episodes_data)"
   ]
  },
  {
   "attachments": {},
   "cell_type": "markdown",
   "metadata": {},
   "source": [
    "Get all the overall ratings for each season and using plots compare the ratings for all the\n",
    "seasons, like season 1 ratings, season 2, and so on."
   ]
  },
  {
   "cell_type": "code",
   "execution_count": 8,
   "metadata": {},
   "outputs": [
    {
     "data": {
      "image/png": "[encoded data removed]",
      "text/plain": [
       "<Figure size 432x288 with 1 Axes>"
      ]
     },
     "metadata": {
      "needs_background": "light"
     },
     "output_type": "display_data"
    }
   ],
   "source": [
    "\n",
    "sns.barplot(data=episodes_df, x=\"season\", y=\"rating_average\")\n",
    "plt.title(\"Ratings Comparison for Each Season\")\n",
    "plt.xlabel(\"Season\")\n",
    "plt.ylabel(\"Average Rating\")\n",
    "plt.show()"
   ]
  },
  {
   "attachments": {},
   "cell_type": "markdown",
   "metadata": {},
   "source": [
    " Get all the episode names with an average rating higher than 8 for every season"
   ]
  },
  {
   "cell_type": "code",
   "execution_count": 13,
   "metadata": {},
   "outputs": [
    {
     "name": "stdout",
     "output_type": "stream",
     "text": [
      "Episode names with average rating > 8:\n",
      "            Trompe L'Oeil\n",
      "The Well-Tempered Clavier\n",
      "       The Bicameral Mind\n",
      "                  Kiksuya\n",
      "          Vanishing Point\n",
      "            The Passenger\n"
     ]
    }
   ],
   "source": [
    "\n",
    "high_rated_episodes = episodes_df[episodes_df[\"rating_average\"] > 8]\n",
    "high_rated_episode_names = high_rated_episodes[\"name\"]\n",
    "print(\"Episode names with average rating > 8:\")\n",
    "print(high_rated_episode_names.to_string(index=False))"
   ]
  },
  {
   "attachments": {},
   "cell_type": "markdown",
   "metadata": {},
   "source": [
    "Get all the episode names that aired before May 2019"
   ]
  },
  {
   "cell_type": "code",
   "execution_count": 10,
   "metadata": {},
   "outputs": [
    {
     "name": "stdout",
     "output_type": "stream",
     "text": [
      "Episode names aired before May 2019:\n",
      "             The Original\n",
      "                 Chestnut\n",
      "                The Stray\n",
      "        Dissonance Theory\n",
      "              Contrapasso\n",
      "            The Adversary\n",
      "            Trompe L'Oeil\n",
      "              Trace Decay\n",
      "The Well-Tempered Clavier\n",
      "       The Bicameral Mind\n",
      "       Journey Into Night\n",
      "                  Reunion\n",
      "          Virtù e Fortuna\n",
      " The Riddle of the Sphinx\n",
      "             Akane No Mai\n",
      "              Phase Space\n",
      "             Les Écorchés\n",
      "                  Kiksuya\n",
      "          Vanishing Point\n",
      "            The Passenger\n"
     ]
    }
   ],
   "source": [
    "episodes_df[\"airdate\"] = pd.to_datetime(episodes_df[\"airdate\"])\n",
    "before_may_2019 = episodes_df[episodes_df[\"airdate\"] < pd.Timestamp(\"2019-05-01\")]\n",
    "before_may_2019_names = before_may_2019[\"name\"]\n",
    "print(\"Episode names aired before May 2019:\")\n",
    "print(before_may_2019_names.to_string(index=False))"
   ]
  },
  {
   "attachments": {},
   "cell_type": "markdown",
   "metadata": {},
   "source": [
    "Get the episode name from each season with the highest and lowest rating"
   ]
  },
  {
   "cell_type": "code",
   "execution_count": 11,
   "metadata": {},
   "outputs": [
    {
     "name": "stdout",
     "output_type": "stream",
     "text": [
      "Episode with the highest rating for each season:\n",
      " season               name\n",
      "      1 The Bicameral Mind\n",
      "      2            Kiksuya\n",
      "      3       Parce Domine\n",
      "      4           Zhuangzi\n",
      "Episode with the lowest rating for each season:\n",
      " season         name\n",
      "      1    The Stray\n",
      "      2 Akane No Mai\n",
      "      3  Decoherence\n",
      "      4 The Auguries\n"
     ]
    }
   ],
   "source": [
    "highest_rated_episodes = episodes_df.groupby(\"season\")[\"rating_average\"].idxmax()\n",
    "lowest_rated_episodes = episodes_df.groupby(\"season\")[\"rating_average\"].idxmin()\n",
    "highest_rated_episode_names = episodes_df.loc[\n",
    "    highest_rated_episodes, [\"season\", \"name\"]\n",
    "]\n",
    "lowest_rated_episode_names = episodes_df.loc[lowest_rated_episodes, [\"season\", \"name\"]]\n",
    "print(\"Episode with the highest rating for each season:\")\n",
    "print(highest_rated_episode_names.to_string(index=False))\n",
    "print(\"Episode with the lowest rating for each season:\")\n",
    "print(lowest_rated_episode_names.to_string(index=False))"
   ]
  },
  {
   "attachments": {},
   "cell_type": "markdown",
   "metadata": {},
   "source": [
    "Get the summary for the most popular ( ratings ) episode in every season"
   ]
  },
  {
   "cell_type": "code",
   "execution_count": 12,
   "metadata": {},
   "outputs": [
    {
     "name": "stdout",
     "output_type": "stream",
     "text": [
      "Summary for the most popular episode in each season:\n",
      " season                                                                                                                                                                                                                 summary\n",
      "      1 <p>Delores finds out the truth about William's fate. Meanwhile, Maeve organizes an escape plan, only to discover that someone else is pulling the strings. And Robert plays the final piece in his grand narrative.</p>\n",
      "      2                                          <p>Another of Westworld's Host revolutionaries is revealed. Meanwhile, Emily finds the Man and convinces the Ghost Nation to hand him over to her to ensure his suffering.</p>\n",
      "      3                                                                                                                                                       <p>If you're stuck in a loop, try walking in a straight line.</p>\n",
      "      4                                                                                                                                                                                                    <p>God is bored.</p>\n"
     ]
    }
   ],
   "source": [
    "most_popular_episodes = episodes_df.groupby(\"season\")[\"rating_average\"].idxmax()\n",
    "most_popular_episode_summaries = episodes_df.loc[\n",
    "    most_popular_episodes, [\"season\", \"summary\"]\n",
    "]\n",
    "print(\"Summary for the most popular episode in each season:\")\n",
    "print(most_popular_episode_summaries.to_string(index=False))"
   ]
  },
  {
   "cell_type": "code",
   "execution_count": null,
   "metadata": {},
   "outputs": [],
   "source": []
  }
 ],
 "metadata": {
  "kernelspec": {
   "display_name": "base",
   "language": "python",
   "name": "python3"
  },
  "language_info": {
   "codemirror_mode": {
    "name": "ipython",
    "version": 3
   },
   "file_extension": ".py",
   "mimetype": "text/x-python",
   "name": "python",
   "nbconvert_exporter": "python",
   "pygments_lexer": "ipython3",
   "version": "3.9.7"
  },
  "orig_nbformat": 4
 },
 "nbformat": 4,
 "nbformat_minor": 2
}
